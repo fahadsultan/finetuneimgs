{
  "nbformat": 4,
  "nbformat_minor": 0,
  "metadata": {
    "colab": {
      "provenance": []
    },
    "kernelspec": {
      "name": "python3",
      "display_name": "Python 3"
    },
    "language_info": {
      "name": "python"
    }
  },
  "cells": [
    {
      "cell_type": "code",
      "execution_count": 45,
      "metadata": {
        "colab": {
          "base_uri": "https://localhost:8080/"
        },
        "id": "Bi0xP2gACjUw",
        "outputId": "a2b9b228-8ac7-419f-8577-32607b456639"
      },
      "outputs": [
        {
          "output_type": "stream",
          "name": "stderr",
          "text": [
            "100%|██████████| 100/100 [00:20<00:00,  4.81it/s]\n"
          ]
        }
      ],
      "source": [
        "from matplotlib import pyplot as plt\n",
        "import pandas as pd\n",
        "import numpy as np\n",
        "import math\n",
        "from tqdm import tqdm\n",
        "\n",
        "sigmoid = lambda x: 1/(1+math.e**(x))\n",
        "\n",
        "n = 20\n",
        "n_2 = int(n/2)\n",
        "\n",
        "for i in tqdm(range(100)):\n",
        "  plt.plot([sigmoid(x) for x in range(-1*n_2, n_2)] + np.random.uniform(-0.03, 0.03, n))\n",
        "  plt.xlabel('Age')\n",
        "  plt.ylabel('Suffering')\n",
        "  plt.title(\"Emirhan's law of life\");\n",
        "  plt.savefig(\"imgs/%s.png\" % i)\n",
        "  plt.close()"
      ]
    }
  ]
}